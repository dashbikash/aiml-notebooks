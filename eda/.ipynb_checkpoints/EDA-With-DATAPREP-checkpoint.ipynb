{
 "cells": [
  {
   "cell_type": "code",
   "execution_count": 1,
   "id": "61974e31-4d0d-4826-9af5-22ac3b5c0bc0",
   "metadata": {},
   "outputs": [
    {
     "data": {
      "text/plain": [
       "['titanic',\n",
       " 'patient_info',\n",
       " 'house_prices_train',\n",
       " 'waste_hauler',\n",
       " 'wine-quality-red',\n",
       " 'house_prices_test',\n",
       " 'adult',\n",
       " 'iris',\n",
       " 'covid19',\n",
       " 'countries']"
      ]
     },
     "execution_count": 1,
     "metadata": {},
     "output_type": "execute_result"
    }
   ],
   "source": [
    "from dataprep.datasets import get_dataset_names\n",
    "get_dataset_names()"
   ]
  },
  {
   "cell_type": "code",
   "execution_count": null,
   "id": "1aa425e6-d8e5-4302-8b93-3ccb426debc2",
   "metadata": {},
   "outputs": [],
   "source": []
  }
 ],
 "metadata": {
  "kernelspec": {
   "display_name": "Python 3 (ipykernel)",
   "language": "python",
   "name": "python3"
  },
  "language_info": {
   "codemirror_mode": {
    "name": "ipython",
    "version": 3
   },
   "file_extension": ".py",
   "mimetype": "text/x-python",
   "name": "python",
   "nbconvert_exporter": "python",
   "pygments_lexer": "ipython3",
   "version": "3.10.16"
  }
 },
 "nbformat": 4,
 "nbformat_minor": 5
}
