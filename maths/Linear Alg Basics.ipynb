{
 "cells": [
  {
   "cell_type": "code",
   "execution_count": 1,
   "id": "9f06f1a1-61b1-4794-a8db-7befa843c7f3",
   "metadata": {},
   "outputs": [],
   "source": [
    "from scipy import linalg\n",
    "import numpy as np"
   ]
  },
  {
   "cell_type": "markdown",
   "id": "dce405bf-edc9-4271-9ecd-c4ea8ab50fdc",
   "metadata": {},
   "source": [
    "##  Foundations"
   ]
  },
  {
   "cell_type": "code",
   "execution_count": 3,
   "id": "731a2164-a7d7-4f37-947d-f1dd84305a3a",
   "metadata": {},
   "outputs": [
    {
     "data": {
      "text/plain": [
       "(array([[1, 1, 3],\n",
       "        [6, 2, 5],\n",
       "        [3, 5, 3]]),\n",
       " array([[5, 4, 2],\n",
       "        [2, 8, 5],\n",
       "        [9, 3, 3]]))"
      ]
     },
     "execution_count": 3,
     "metadata": {},
     "output_type": "execute_result"
    }
   ],
   "source": [
    "A=np.random.randint(1, 10, size=(3,3))\n",
    "B=np.random.randint(1, 10, size=(3,3))\n",
    "A,B"
   ]
  },
  {
   "cell_type": "code",
   "execution_count": 4,
   "id": "04cee047-5b46-4a3c-b017-6b6d0df7d651",
   "metadata": {},
   "outputs": [
    {
     "data": {
      "text/plain": [
       "array([[ 6,  5,  5],\n",
       "       [ 8, 10, 10],\n",
       "       [12,  8,  6]])"
      ]
     },
     "execution_count": 4,
     "metadata": {},
     "output_type": "execute_result"
    }
   ],
   "source": [
    "# Addition\n",
    "np.add(A,B)"
   ]
  },
  {
   "cell_type": "code",
   "execution_count": 5,
   "id": "d3e1e2c9-b371-4746-a68e-d42dbce9ec5a",
   "metadata": {},
   "outputs": [
    {
     "data": {
      "text/plain": [
       "array([[-4, -3,  1],\n",
       "       [ 4, -6,  0],\n",
       "       [-6,  2,  0]])"
      ]
     },
     "execution_count": 5,
     "metadata": {},
     "output_type": "execute_result"
    }
   ],
   "source": [
    "# Subtraction\n",
    "np.subtract(A,B)"
   ]
  },
  {
   "cell_type": "code",
   "execution_count": 6,
   "id": "b4ce6969-486b-4ef6-8c6e-525667f6275f",
   "metadata": {},
   "outputs": [
    {
     "data": {
      "text/plain": [
       "array([[ 5,  4,  6],\n",
       "       [12, 16, 25],\n",
       "       [27, 15,  9]])"
      ]
     },
     "execution_count": 6,
     "metadata": {},
     "output_type": "execute_result"
    }
   ],
   "source": [
    "# Multiplication\n",
    "np.multiply(A,B)"
   ]
  },
  {
   "cell_type": "code",
   "execution_count": 7,
   "id": "91373492-0787-46d8-aa20-5c080f047aa6",
   "metadata": {},
   "outputs": [
    {
     "data": {
      "text/plain": [
       "array([[1, 6, 3],\n",
       "       [1, 2, 5],\n",
       "       [3, 5, 3]])"
      ]
     },
     "execution_count": 7,
     "metadata": {},
     "output_type": "execute_result"
    }
   ],
   "source": [
    "# Transpose\n",
    "np.transpose(A)"
   ]
  },
  {
   "cell_type": "code",
   "execution_count": 8,
   "id": "a5518767-4084-4617-8cfe-5d063e86d09c",
   "metadata": {},
   "outputs": [
    {
     "data": {
      "text/plain": [
       "array([[-0.38,  0.24, -0.02],\n",
       "       [-0.06, -0.12,  0.26],\n",
       "       [ 0.48, -0.04, -0.08]])"
      ]
     },
     "execution_count": 8,
     "metadata": {},
     "output_type": "execute_result"
    }
   ],
   "source": [
    "# Inverse\n",
    "A_inv=linalg.inv(A)\n",
    "A_inv"
   ]
  },
  {
   "cell_type": "code",
   "execution_count": 9,
   "id": "cd1e8437-97e7-4c2f-83eb-9e2a6bd369ff",
   "metadata": {},
   "outputs": [
    {
     "data": {
      "text/plain": [
       "array([[ 1.,  0.,  0.],\n",
       "       [ 0.,  1.,  0.],\n",
       "       [ 0., -0.,  1.]])"
      ]
     },
     "execution_count": 9,
     "metadata": {},
     "output_type": "execute_result"
    }
   ],
   "source": [
    "# Inverse Rule AA~-1 =A~-1A=I\n",
    "np.round(np.dot(A,A_inv), decimals=0, out=None)"
   ]
  },
  {
   "cell_type": "code",
   "execution_count": 10,
   "id": "62b9f073-446c-4d93-9374-71751bb0f263",
   "metadata": {},
   "outputs": [
    {
     "name": "stdout",
     "output_type": "stream",
     "text": [
      "50.0\n"
     ]
    }
   ],
   "source": [
    "# Determinant\n",
    "print(linalg.det(A))"
   ]
  },
  {
   "cell_type": "code",
   "execution_count": 20,
   "id": "49bee1cb-b99f-4bed-ad55-c1330f33a341",
   "metadata": {},
   "outputs": [
    {
     "data": {
      "text/plain": [
       "(array([ 9.57436524+0.j        , -1.78718262+1.42416874j,\n",
       "        -1.78718262-1.42416874j]),\n",
       " array([[ 0.31095601+0.j        ,  0.38986891+0.33900987j,\n",
       "          0.38986891-0.33900987j],\n",
       "        [ 0.68276864+0.j        ,  0.3920946 -0.3896433j ,\n",
       "          0.3920946 +0.3896433j ],\n",
       "        [ 0.6611606 +0.j        , -0.6538459 +0.j        ,\n",
       "         -0.6538459 -0.j        ]]))"
      ]
     },
     "execution_count": 20,
     "metadata": {},
     "output_type": "execute_result"
    }
   ],
   "source": [
    "# Eigen Vector\n",
    "linalg.eig(A)"
   ]
  },
  {
   "cell_type": "code",
   "execution_count": 21,
   "id": "28a46fe8-8562-4966-9aaf-ccd4e37780b2",
   "metadata": {},
   "outputs": [
    {
     "data": {
      "text/plain": [
       "array([ 9.57436524+0.j        , -1.78718262+1.42416874j,\n",
       "       -1.78718262-1.42416874j])"
      ]
     },
     "execution_count": 21,
     "metadata": {},
     "output_type": "execute_result"
    }
   ],
   "source": [
    "# Eigen Value\n",
    "linalg.eigvals(A)"
   ]
  },
  {
   "cell_type": "code",
   "execution_count": 24,
   "id": "eba88687-7042-4409-a563-d96b68ad3bbb",
   "metadata": {},
   "outputs": [
    {
     "data": {
      "text/plain": [
       "np.int64(3)"
      ]
     },
     "execution_count": 24,
     "metadata": {},
     "output_type": "execute_result"
    }
   ],
   "source": [
    "np.linalg.matrix_rank(A)"
   ]
  },
  {
   "cell_type": "code",
   "execution_count": null,
   "id": "675b76b9-f889-4881-8af4-e7386e756d7d",
   "metadata": {},
   "outputs": [],
   "source": []
  },
  {
   "cell_type": "code",
   "execution_count": null,
   "id": "a738343c-d00e-46e0-a706-b4c1dbfd3b3d",
   "metadata": {},
   "outputs": [],
   "source": []
  }
 ],
 "metadata": {
  "kernelspec": {
   "display_name": "Python 3 (ipykernel)",
   "language": "python",
   "name": "python3"
  },
  "language_info": {
   "codemirror_mode": {
    "name": "ipython",
    "version": 3
   },
   "file_extension": ".py",
   "mimetype": "text/x-python",
   "name": "python",
   "nbconvert_exporter": "python",
   "pygments_lexer": "ipython3",
   "version": "3.11.11"
  }
 },
 "nbformat": 4,
 "nbformat_minor": 5
}
